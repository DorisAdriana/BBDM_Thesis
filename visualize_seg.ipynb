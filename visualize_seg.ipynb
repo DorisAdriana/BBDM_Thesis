{
 "cells": [
  {
   "cell_type": "code",
   "execution_count": 13,
   "metadata": {},
   "outputs": [
    {
     "name": "stderr",
     "output_type": "stream",
     "text": [
      "/var/folders/75/cyqnjl4d39nbnmv8m5ttxbf40000gn/T/ipykernel_13095/2169240095.py:108: DeprecationWarning: Starting with ImageIO v3 the behavior of this function will switch to that of iio.v3.imread. To keep the current behavior (and make this warning disappear) use `import imageio.v2 as imageio` or call `imageio.v2.imread` directly.\n",
      "  image = imageio.imread(filename)\n",
      "IMAGEIO FFMPEG_WRITER WARNING: input image is not divisible by macro_block_size=16, resizing from (300, 300) to (304, 304) to ensure video compatibility with most codecs and players. To prevent resizing, make your input image divisible by the macro_block_size or set the macro_block_size to 1 (risking incompatibility).\n",
      "[swscaler @ 0x7fa950090000] Warning: data is not aligned! This can lead to a speed loss\n"
     ]
    },
    {
     "name": "stdout",
     "output_type": "stream",
     "text": [
      "Video saved as visualizations/scan_224/scan_224_video.mp4\n"
     ]
    },
    {
     "ename": "",
     "evalue": "",
     "output_type": "error",
     "traceback": [
      "\u001b[1;31mThe Kernel crashed while executing code in the current cell or a previous cell. \n",
      "\u001b[1;31mPlease review the code in the cell(s) to identify a possible cause of the failure. \n",
      "\u001b[1;31mClick <a href='https://aka.ms/vscodeJupyterKernelCrash'>here</a> for more info. \n",
      "\u001b[1;31mView Jupyter <a href='command:jupyter.viewOutput'>log</a> for further details."
     ]
    }
   ],
   "source": [
    "import vtk\n",
    "import nibabel as nib\n",
    "from skimage import measure\n",
    "import imageio\n",
    "import os\n",
    "\n",
    "def load_mesh_as_vtk(filename):\n",
    "    \"\"\"Load NIfTI file and convert to a VTK PolyData object.\"\"\"\n",
    "    img = nib.load(filename)\n",
    "    data = img.get_fdata()\n",
    "\n",
    "    # Generate vertices and faces from binary data using marching cubes\n",
    "    verts, faces, _, _ = measure.marching_cubes(data, level=0.5)\n",
    "\n",
    "    # Create a VTK PolyData object\n",
    "    vtk_points = vtk.vtkPoints()\n",
    "    for vert in verts:\n",
    "        vtk_points.InsertNextPoint(vert)\n",
    "\n",
    "    vtk_faces = vtk.vtkCellArray()\n",
    "    for face in faces:\n",
    "        vtk_faces.InsertNextCell(3)\n",
    "        for i in face:\n",
    "            vtk_faces.InsertCellPoint(int(i))\n",
    "\n",
    "    mesh = vtk.vtkPolyData()\n",
    "    mesh.SetPoints(vtk_points)\n",
    "    mesh.SetPolys(vtk_faces)\n",
    "    \n",
    "    return mesh\n",
    "\n",
    "def visualize_mesh_overlap_vtk(mesh1, mesh2, output_file):\n",
    "    \"\"\"Visualize the overlap between two VTK meshes with a 90-degree left rotation and save as .png.\"\"\"\n",
    "    # Create a mapper and actor for mesh1 (Ground Truth)\n",
    "    mapper1 = vtk.vtkPolyDataMapper()\n",
    "    mapper1.SetInputData(mesh1)\n",
    "    actor1 = vtk.vtkActor()\n",
    "    actor1.SetMapper(mapper1)\n",
    "    actor1.GetProperty().SetColor(1, 1, 0)  # Yellow for Ground Truth\n",
    "    actor1.GetProperty().SetOpacity(0.5)\n",
    "\n",
    "    # Create a mapper and actor for mesh2 (BBDM Prediction)\n",
    "    mapper2 = vtk.vtkPolyDataMapper()\n",
    "    mapper2.SetInputData(mesh2)\n",
    "    actor2 = vtk.vtkActor()\n",
    "    actor2.SetMapper(mapper2)\n",
    "    actor2.GetProperty().SetColor(1, 0, 0)  # Red for BBDM Prediction\n",
    "    actor2.GetProperty().SetOpacity(0.5)\n",
    "\n",
    "    # Apply a 90-degree left rotation to both actors around the Z-axis\n",
    "    transform = vtk.vtkTransform()\n",
    "    transform.RotateZ(-90)  # Rotate -90 degrees around Z-axis (to the left)\n",
    "\n",
    "    actor1.SetUserTransform(transform)\n",
    "    actor2.SetUserTransform(transform)\n",
    "\n",
    "    # Renderer\n",
    "    renderer = vtk.vtkRenderer()\n",
    "    renderer.AddActor(actor1)\n",
    "    renderer.AddActor(actor2)\n",
    "    renderer.SetBackground(1, 1, 1)  # White background\n",
    "\n",
    "    # Render window\n",
    "    render_window = vtk.vtkRenderWindow()\n",
    "    render_window.AddRenderer(renderer)\n",
    "    render_window.SetOffScreenRendering(1)  # Enable offscreen rendering for saving to file\n",
    "\n",
    "    # Render the scene\n",
    "    render_window.Render()\n",
    "\n",
    "    # Save the image as a .png file\n",
    "    window_to_image_filter = vtk.vtkWindowToImageFilter()\n",
    "    window_to_image_filter.SetInput(render_window)\n",
    "    window_to_image_filter.Update()\n",
    "\n",
    "    writer = vtk.vtkPNGWriter()\n",
    "    writer.SetFileName(output_file)\n",
    "    writer.SetInputConnection(window_to_image_filter.GetOutputPort())\n",
    "    writer.Write()\n",
    "\n",
    "def process_scan(scan_number):\n",
    "    \"\"\"Process and visualize all the scans for a given scan number.\"\"\"\n",
    "    # Create output directory structure\n",
    "    output_dir = f'visualizations/scan_{scan_number}'\n",
    "    os.makedirs(output_dir, exist_ok=True)\n",
    "\n",
    "    image_filenames = []\n",
    "\n",
    "    # Loop over the 15 files and save images\n",
    "    for i in range(1, 16):\n",
    "        file_suffix = f'{i:02d}'  # Format number with leading zeros, e.g., '01', '02', ..., '15'\n",
    "        gt_file = f'gt/scan_{scan_number}_b{file_suffix}.nii.gz'       # Ground Truth\n",
    "        pred_file = f'pred_BBDM_mvar/scan_{scan_number}_b{file_suffix}.nii.gz' # Prediction\n",
    "\n",
    "        # Load the NIfTI files as VTK PolyData objects\n",
    "        mesh1 = load_mesh_as_vtk(gt_file)\n",
    "        mesh2 = load_mesh_as_vtk(pred_file)\n",
    "\n",
    "        # Save the visualization as a .png file with the scan number in the name\n",
    "        output_filename = os.path.join(output_dir, f'scan_{scan_number}_b{file_suffix}.png')\n",
    "        visualize_mesh_overlap_vtk(mesh1, mesh2, output_file=output_filename)\n",
    "        image_filenames.append(output_filename)\n",
    "\n",
    "    # Create a video from the images\n",
    "    video_filename = os.path.join(output_dir, f'scan_{scan_number}_video.mp4')\n",
    "    with imageio.get_writer(video_filename, fps=1) as writer:  # Adjust fps as needed\n",
    "        for filename in image_filenames:\n",
    "            image = imageio.imread(filename)\n",
    "            writer.append_data(image)\n",
    "\n",
    "    print(f\"Video saved as {video_filename}\")\n",
    "\n",
    "# Example usage\n",
    "process_scan(224)  # Change the scan number as needed\n"
   ]
  },
  {
   "cell_type": "code",
   "execution_count": 5,
   "metadata": {},
   "outputs": [
    {
     "name": "stderr",
     "output_type": "stream",
     "text": [
      "/home/rnga/dawezenberg/tmp/ipykernel_439905/1299369186.py:108: DeprecationWarning: Starting with ImageIO v3 the behavior of this function will switch to that of iio.v3.imread. To keep the current behavior (and make this warning disappear) use `import imageio.v2 as imageio` or call `imageio.v2.imread` directly.\n",
      "  image = imageio.imread(filename)\n",
      "IMAGEIO FFMPEG_WRITER WARNING: input image is not divisible by macro_block_size=16, resizing from (300, 300) to (304, 304) to ensure video compatibility with most codecs and players. To prevent resizing, make your input image divisible by the macro_block_size or set the macro_block_size to 1 (risking incompatibility).\n",
      "[swscaler @ 0x5ece440] Warning: data is not aligned! This can lead to a speed loss\n"
     ]
    },
    {
     "name": "stdout",
     "output_type": "stream",
     "text": [
      "Video saved as visualizations/m_var/scan_143/scan_143_video.mp4\n"
     ]
    },
    {
     "name": "stderr",
     "output_type": "stream",
     "text": [
      "IMAGEIO FFMPEG_WRITER WARNING: input image is not divisible by macro_block_size=16, resizing from (300, 300) to (304, 304) to ensure video compatibility with most codecs and players. To prevent resizing, make your input image divisible by the macro_block_size or set the macro_block_size to 1 (risking incompatibility).\n",
      "[swscaler @ 0x6f78440] Warning: data is not aligned! This can lead to a speed loss\n"
     ]
    },
    {
     "name": "stdout",
     "output_type": "stream",
     "text": [
      "Video saved as visualizations/m_var/scan_144/scan_144_video.mp4\n"
     ]
    },
    {
     "name": "stderr",
     "output_type": "stream",
     "text": [
      "IMAGEIO FFMPEG_WRITER WARNING: input image is not divisible by macro_block_size=16, resizing from (300, 300) to (304, 304) to ensure video compatibility with most codecs and players. To prevent resizing, make your input image divisible by the macro_block_size or set the macro_block_size to 1 (risking incompatibility).\n",
      "[swscaler @ 0x60da440] Warning: data is not aligned! This can lead to a speed loss\n"
     ]
    },
    {
     "name": "stdout",
     "output_type": "stream",
     "text": [
      "Video saved as visualizations/m_var/scan_146/scan_146_video.mp4\n"
     ]
    },
    {
     "name": "stderr",
     "output_type": "stream",
     "text": [
      "IMAGEIO FFMPEG_WRITER WARNING: input image is not divisible by macro_block_size=16, resizing from (300, 300) to (304, 304) to ensure video compatibility with most codecs and players. To prevent resizing, make your input image divisible by the macro_block_size or set the macro_block_size to 1 (risking incompatibility).\n",
      "[swscaler @ 0x6597440] Warning: data is not aligned! This can lead to a speed loss\n"
     ]
    },
    {
     "name": "stdout",
     "output_type": "stream",
     "text": [
      "Video saved as visualizations/m_var/scan_201/scan_201_video.mp4\n"
     ]
    },
    {
     "name": "stderr",
     "output_type": "stream",
     "text": [
      "IMAGEIO FFMPEG_WRITER WARNING: input image is not divisible by macro_block_size=16, resizing from (300, 300) to (304, 304) to ensure video compatibility with most codecs and players. To prevent resizing, make your input image divisible by the macro_block_size or set the macro_block_size to 1 (risking incompatibility).\n",
      "[swscaler @ 0x7153440] Warning: data is not aligned! This can lead to a speed loss\n"
     ]
    },
    {
     "name": "stdout",
     "output_type": "stream",
     "text": [
      "Video saved as visualizations/m_var/scan_213/scan_213_video.mp4\n"
     ]
    },
    {
     "name": "stderr",
     "output_type": "stream",
     "text": [
      "IMAGEIO FFMPEG_WRITER WARNING: input image is not divisible by macro_block_size=16, resizing from (300, 300) to (304, 304) to ensure video compatibility with most codecs and players. To prevent resizing, make your input image divisible by the macro_block_size or set the macro_block_size to 1 (risking incompatibility).\n",
      "[swscaler @ 0x6be6440] Warning: data is not aligned! This can lead to a speed loss\n"
     ]
    },
    {
     "name": "stdout",
     "output_type": "stream",
     "text": [
      "Video saved as visualizations/m_var/scan_216/scan_216_video.mp4\n"
     ]
    },
    {
     "name": "stderr",
     "output_type": "stream",
     "text": [
      "IMAGEIO FFMPEG_WRITER WARNING: input image is not divisible by macro_block_size=16, resizing from (300, 300) to (304, 304) to ensure video compatibility with most codecs and players. To prevent resizing, make your input image divisible by the macro_block_size or set the macro_block_size to 1 (risking incompatibility).\n",
      "[swscaler @ 0x5c36440] Warning: data is not aligned! This can lead to a speed loss\n"
     ]
    },
    {
     "name": "stdout",
     "output_type": "stream",
     "text": [
      "Video saved as visualizations/m_var/scan_218/scan_218_video.mp4\n"
     ]
    },
    {
     "name": "stderr",
     "output_type": "stream",
     "text": [
      "IMAGEIO FFMPEG_WRITER WARNING: input image is not divisible by macro_block_size=16, resizing from (300, 300) to (304, 304) to ensure video compatibility with most codecs and players. To prevent resizing, make your input image divisible by the macro_block_size or set the macro_block_size to 1 (risking incompatibility).\n",
      "[swscaler @ 0x690a440] Warning: data is not aligned! This can lead to a speed loss\n"
     ]
    },
    {
     "name": "stdout",
     "output_type": "stream",
     "text": [
      "Video saved as visualizations/m_var/scan_224/scan_224_video.mp4\n"
     ]
    },
    {
     "ename": "FileNotFoundError",
     "evalue": "No such file or no access: 'gt/scan_239_b01.nii.gz'",
     "output_type": "error",
     "traceback": [
      "\u001b[0;31m---------------------------------------------------------------------------\u001b[0m",
      "\u001b[0;31mFileNotFoundError\u001b[0m                         Traceback (most recent call last)",
      "File \u001b[0;32m~/my-scratch/envunet/lib64/python3.9/site-packages/nibabel/loadsave.py:100\u001b[0m, in \u001b[0;36mload\u001b[0;34m(filename, **kwargs)\u001b[0m\n\u001b[1;32m     99\u001b[0m \u001b[38;5;28;01mtry\u001b[39;00m:\n\u001b[0;32m--> 100\u001b[0m     stat_result \u001b[38;5;241m=\u001b[39m \u001b[43mos\u001b[49m\u001b[38;5;241;43m.\u001b[39;49m\u001b[43mstat\u001b[49m\u001b[43m(\u001b[49m\u001b[43mfilename\u001b[49m\u001b[43m)\u001b[49m\n\u001b[1;32m    101\u001b[0m \u001b[38;5;28;01mexcept\u001b[39;00m \u001b[38;5;167;01mOSError\u001b[39;00m:\n",
      "\u001b[0;31mFileNotFoundError\u001b[0m: [Errno 2] No such file or directory: 'gt/scan_239_b01.nii.gz'",
      "\nDuring handling of the above exception, another exception occurred:\n",
      "\u001b[0;31mFileNotFoundError\u001b[0m                         Traceback (most recent call last)",
      "Cell \u001b[0;32mIn[5], line 117\u001b[0m\n\u001b[1;32m    115\u001b[0m \u001b[38;5;66;03m# Example usage\u001b[39;00m\n\u001b[1;32m    116\u001b[0m \u001b[38;5;28;01mfor\u001b[39;00m scan \u001b[38;5;129;01min\u001b[39;00m scans:\n\u001b[0;32m--> 117\u001b[0m     \u001b[43mprocess_scan\u001b[49m\u001b[43m(\u001b[49m\u001b[43mscan\u001b[49m\u001b[43m)\u001b[49m  \u001b[38;5;66;03m# Change the scan number as needed\u001b[39;00m\n",
      "Cell \u001b[0;32mIn[5], line 96\u001b[0m, in \u001b[0;36mprocess_scan\u001b[0;34m(scan_number)\u001b[0m\n\u001b[1;32m     93\u001b[0m pred_file \u001b[38;5;241m=\u001b[39m \u001b[38;5;124mf\u001b[39m\u001b[38;5;124m'\u001b[39m\u001b[38;5;124mpred_BBDM_mvar/scan_\u001b[39m\u001b[38;5;132;01m{\u001b[39;00mscan_number\u001b[38;5;132;01m}\u001b[39;00m\u001b[38;5;124m_b\u001b[39m\u001b[38;5;132;01m{\u001b[39;00mfile_suffix\u001b[38;5;132;01m}\u001b[39;00m\u001b[38;5;124m.nii.gz\u001b[39m\u001b[38;5;124m'\u001b[39m \u001b[38;5;66;03m# Prediction\u001b[39;00m\n\u001b[1;32m     95\u001b[0m \u001b[38;5;66;03m# Load the NIfTI files as VTK PolyData objects\u001b[39;00m\n\u001b[0;32m---> 96\u001b[0m mesh1 \u001b[38;5;241m=\u001b[39m \u001b[43mload_mesh_as_vtk\u001b[49m\u001b[43m(\u001b[49m\u001b[43mgt_file\u001b[49m\u001b[43m)\u001b[49m\n\u001b[1;32m     97\u001b[0m mesh2 \u001b[38;5;241m=\u001b[39m load_mesh_as_vtk(pred_file)\n\u001b[1;32m     99\u001b[0m \u001b[38;5;66;03m# Save the visualization as a .png file with the scan number in the name\u001b[39;00m\n",
      "Cell \u001b[0;32mIn[5], line 9\u001b[0m, in \u001b[0;36mload_mesh_as_vtk\u001b[0;34m(filename)\u001b[0m\n\u001b[1;32m      7\u001b[0m \u001b[38;5;28;01mdef\u001b[39;00m \u001b[38;5;21mload_mesh_as_vtk\u001b[39m(filename):\n\u001b[1;32m      8\u001b[0m \u001b[38;5;250m    \u001b[39m\u001b[38;5;124;03m\"\"\"Load NIfTI file and convert to a VTK PolyData object.\"\"\"\u001b[39;00m\n\u001b[0;32m----> 9\u001b[0m     img \u001b[38;5;241m=\u001b[39m \u001b[43mnib\u001b[49m\u001b[38;5;241;43m.\u001b[39;49m\u001b[43mload\u001b[49m\u001b[43m(\u001b[49m\u001b[43mfilename\u001b[49m\u001b[43m)\u001b[49m\n\u001b[1;32m     10\u001b[0m     data \u001b[38;5;241m=\u001b[39m img\u001b[38;5;241m.\u001b[39mget_fdata()\n\u001b[1;32m     12\u001b[0m     \u001b[38;5;66;03m# Generate vertices and faces from binary data using marching cubes\u001b[39;00m\n",
      "File \u001b[0;32m~/my-scratch/envunet/lib64/python3.9/site-packages/nibabel/loadsave.py:102\u001b[0m, in \u001b[0;36mload\u001b[0;34m(filename, **kwargs)\u001b[0m\n\u001b[1;32m    100\u001b[0m     stat_result \u001b[38;5;241m=\u001b[39m os\u001b[38;5;241m.\u001b[39mstat(filename)\n\u001b[1;32m    101\u001b[0m \u001b[38;5;28;01mexcept\u001b[39;00m \u001b[38;5;167;01mOSError\u001b[39;00m:\n\u001b[0;32m--> 102\u001b[0m     \u001b[38;5;28;01mraise\u001b[39;00m \u001b[38;5;167;01mFileNotFoundError\u001b[39;00m(\u001b[38;5;124mf\u001b[39m\u001b[38;5;124m\"\u001b[39m\u001b[38;5;124mNo such file or no access: \u001b[39m\u001b[38;5;124m'\u001b[39m\u001b[38;5;132;01m{\u001b[39;00mfilename\u001b[38;5;132;01m}\u001b[39;00m\u001b[38;5;124m'\u001b[39m\u001b[38;5;124m\"\u001b[39m)\n\u001b[1;32m    103\u001b[0m \u001b[38;5;28;01mif\u001b[39;00m stat_result\u001b[38;5;241m.\u001b[39mst_size \u001b[38;5;241m<\u001b[39m\u001b[38;5;241m=\u001b[39m \u001b[38;5;241m0\u001b[39m:\n\u001b[1;32m    104\u001b[0m     \u001b[38;5;28;01mraise\u001b[39;00m ImageFileError(\u001b[38;5;124mf\u001b[39m\u001b[38;5;124m\"\u001b[39m\u001b[38;5;124mEmpty file: \u001b[39m\u001b[38;5;124m'\u001b[39m\u001b[38;5;132;01m{\u001b[39;00mfilename\u001b[38;5;132;01m}\u001b[39;00m\u001b[38;5;124m'\u001b[39m\u001b[38;5;124m\"\u001b[39m)\n",
      "\u001b[0;31mFileNotFoundError\u001b[0m: No such file or no access: 'gt/scan_239_b01.nii.gz'"
     ]
    }
   ],
   "source": [
    "import vtk\n",
    "import nibabel as nib\n",
    "from skimage import measure\n",
    "import imageio\n",
    "import os\n",
    "\n",
    "def load_mesh_as_vtk(filename):\n",
    "    \"\"\"Load NIfTI file and convert to a VTK PolyData object.\"\"\"\n",
    "    img = nib.load(filename)\n",
    "    data = img.get_fdata()\n",
    "\n",
    "    # Generate vertices and faces from binary data using marching cubes\n",
    "    verts, faces, _, _ = measure.marching_cubes(data, level=0.5)\n",
    "\n",
    "    # Create a VTK PolyData object\n",
    "    vtk_points = vtk.vtkPoints()\n",
    "    for vert in verts:\n",
    "        vtk_points.InsertNextPoint(vert)\n",
    "\n",
    "    vtk_faces = vtk.vtkCellArray()\n",
    "    for face in faces:\n",
    "        vtk_faces.InsertNextCell(3)\n",
    "        for i in face:\n",
    "            vtk_faces.InsertCellPoint(int(i))\n",
    "\n",
    "    mesh = vtk.vtkPolyData()\n",
    "    mesh.SetPoints(vtk_points)\n",
    "    mesh.SetPolys(vtk_faces)\n",
    "    \n",
    "    return mesh\n",
    "\n",
    "def visualize_mesh_overlap_vtk(mesh1, mesh2, output_file):\n",
    "    \"\"\"Visualize the overlap between two VTK meshes with a 90-degree left rotation and save as .png.\"\"\"\n",
    "    # Create a mapper and actor for mesh1 (Ground Truth)\n",
    "    mapper1 = vtk.vtkPolyDataMapper()\n",
    "    mapper1.SetInputData(mesh1)\n",
    "    actor1 = vtk.vtkActor()\n",
    "    actor1.SetMapper(mapper1)\n",
    "    actor1.GetProperty().SetColor(1, 1, 0)  # Yellow for Ground Truth\n",
    "    actor1.GetProperty().SetOpacity(0.5)\n",
    "\n",
    "    # Create a mapper and actor for mesh2 (BBDM Prediction)\n",
    "    mapper2 = vtk.vtkPolyDataMapper()\n",
    "    mapper2.SetInputData(mesh2)\n",
    "    actor2 = vtk.vtkActor()\n",
    "    actor2.SetMapper(mapper2)\n",
    "    actor2.GetProperty().SetColor(1, 0, 0)  # Red for BBDM Prediction\n",
    "    actor2.GetProperty().SetOpacity(0.5)\n",
    "\n",
    "    # Apply a 90-degree left rotation to both actors around the Z-axis\n",
    "    transform = vtk.vtkTransform()\n",
    "    transform.RotateZ(-90)  # Rotate -90 degrees around Z-axis (to the left)\n",
    "\n",
    "    actor1.SetUserTransform(transform)\n",
    "    actor2.SetUserTransform(transform)\n",
    "\n",
    "    # Renderer\n",
    "    renderer = vtk.vtkRenderer()\n",
    "    renderer.AddActor(actor1)\n",
    "    renderer.AddActor(actor2)\n",
    "    renderer.SetBackground(1, 1, 1)  # White background\n",
    "\n",
    "    # Render window\n",
    "    render_window = vtk.vtkRenderWindow()\n",
    "    render_window.AddRenderer(renderer)\n",
    "    render_window.SetOffScreenRendering(1)  # Enable offscreen rendering for saving to file\n",
    "\n",
    "    # Render the scene\n",
    "    render_window.Render()\n",
    "\n",
    "    # Save the image as a .png file\n",
    "    window_to_image_filter = vtk.vtkWindowToImageFilter()\n",
    "    window_to_image_filter.SetInput(render_window)\n",
    "    window_to_image_filter.Update()\n",
    "\n",
    "    writer = vtk.vtkPNGWriter()\n",
    "    writer.SetFileName(output_file)\n",
    "    writer.SetInputConnection(window_to_image_filter.GetOutputPort())\n",
    "    writer.Write()\n",
    "\n",
    "def process_scan(scan_number):\n",
    "    \"\"\"Process and visualize all the scans for a given scan number.\"\"\"\n",
    "    # Create output directory structure\n",
    "    output_dir = f'visualizations/m_var/scan_{scan_number}'\n",
    "    os.makedirs(output_dir, exist_ok=True)\n",
    "\n",
    "    image_filenames = []\n",
    "\n",
    "    # Loop over the 15 files and save images\n",
    "    for i in range(1, 16):\n",
    "        file_suffix = f'{i:02d}'  # Format number with leading zeros, e.g., '01', '02', ..., '15'\n",
    "        gt_file = f'gt/scan_{scan_number}_b{file_suffix}.nii.gz'       # Ground Truth\n",
    "        pred_file = f'pred_BBDM_mvar/scan_{scan_number}_b{file_suffix}.nii.gz' # Prediction\n",
    "\n",
    "        # Load the NIfTI files as VTK PolyData objects\n",
    "        mesh1 = load_mesh_as_vtk(gt_file)\n",
    "        mesh2 = load_mesh_as_vtk(pred_file)\n",
    "\n",
    "        # Save the visualization as a .png file with the scan number in the name\n",
    "        output_filename = os.path.join(output_dir, f'scan_{scan_number}_b{file_suffix}.png')\n",
    "        visualize_mesh_overlap_vtk(mesh1, mesh2, output_file=output_filename)\n",
    "        image_filenames.append(output_filename)\n",
    "\n",
    "    # Create a video from the images\n",
    "    video_filename = os.path.join(output_dir, f'scan_{scan_number}_video.mp4')\n",
    "    with imageio.get_writer(video_filename, format='ffmpeg', fps=1) as writer:  # Explicitly use ffmpeg\n",
    "        for filename in image_filenames:\n",
    "            image = imageio.imread(filename)\n",
    "            writer.append_data(image)\n",
    "\n",
    "    print(f\"Video saved as {video_filename}\")\n",
    "\n",
    "scans = ['143', '144', '146', '201', '213', '216','218', '224', '239', '246', '247', '248', '251', '254', '257']\n",
    "\n",
    "# Example usage\n",
    "for scan in scans:\n",
    "    process_scan(scan)  # Change the scan number as needed\n"
   ]
  }
 ],
 "metadata": {
  "kernelspec": {
   "display_name": "Python (envunet)",
   "language": "python",
   "name": "envunet"
  },
  "language_info": {
   "codemirror_mode": {
    "name": "ipython",
    "version": 3
   },
   "file_extension": ".py",
   "mimetype": "text/x-python",
   "name": "python",
   "nbconvert_exporter": "python",
   "pygments_lexer": "ipython3",
   "version": "3.9.19"
  }
 },
 "nbformat": 4,
 "nbformat_minor": 2
}
